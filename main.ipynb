{
 "cells": [
  {
   "cell_type": "code",
   "execution_count": 1,
   "metadata": {},
   "outputs": [],
   "source": [
    "using StatsBase\n",
    "using PyPlot\n",
    "using Distributions\n",
    "using JLD2, FileIO"
   ]
  },
  {
   "cell_type": "code",
   "execution_count": 2,
   "metadata": {},
   "outputs": [
    {
     "data": {
      "text/plain": [
       "interaction (generic function with 1 method)"
      ]
     },
     "execution_count": 2,
     "metadata": {},
     "output_type": "execute_result"
    }
   ],
   "source": [
    "function interaction(gamma::Float64, grid_width::Int64, site_x::Int64, site_y::Int64)\n",
    "    xi = (site_x - 1) % grid_width;\n",
    "    xj = div((site_x - 1 - xi), grid_width);\n",
    "    yi = (site_y - 1) % grid_width;\n",
    "    yj = div((site_y - 1 - yi), grid_width);\n",
    "    di = xi - yi;\n",
    "    dj = xj - yj;\n",
    "    return exp(-gamma * (di^2 + dj^2)) * (site_x != site_y);\n",
    "end"
   ]
  },
  {
   "cell_type": "code",
   "execution_count": 3,
   "metadata": {},
   "outputs": [
    {
     "data": {
      "text/plain": [
       "gibbs_sampler (generic function with 1 method)"
      ]
     },
     "execution_count": 3,
     "metadata": {},
     "output_type": "execute_result"
    }
   ],
   "source": [
    "function gibbs_sampler(gamma::Float64, beta::Float64, grid_width::Int64, num_states::Int64, num_samples::Int64)\n",
    "    N = grid_width^2;\n",
    "    state = ones(Int64, N);\n",
    "    marginal_counts = zeros(Int64, N, num_states);\n",
    "    true_marginals = ones(Float64, N, num_states) / (1.0 * num_states);\n",
    "    marginal_errors = zeros(Float64, num_samples);\n",
    "    run_time = zeros(Float64,num_samples);\n",
    "    for iter = 1:num_samples\n",
    "        run_time[iter] = @elapsed begin\n",
    "        i = rand(1:N);\n",
    "        energies = zeros(num_states);\n",
    "        for t = 1:num_states\n",
    "            for j = 1:N\n",
    "                energies[t] += beta * interaction(gamma, grid_width, i, j) * (state[j]==t);\n",
    "            end\n",
    "        end\n",
    "        sample_probs = exp.(energies) ./ sum(exp.(energies));\n",
    "        state[i] = sample(1:num_states, Weights(sample_probs));\n",
    "        end\n",
    "        for j = 1:N\n",
    "            marginal_counts[j, state[j]] += 1;\n",
    "        end\n",
    "        marginal_errors[iter] = mean([norm((marginal_counts[j, :] / (1.0*iter)) - true_marginals[j, :]) for j = 1:N]);\n",
    "        end\n",
    "    return marginal_errors, run_time;\n",
    "end"
   ]
  },
  {
   "cell_type": "code",
   "execution_count": 4,
   "metadata": {},
   "outputs": [
    {
     "name": "stdout",
     "output_type": "stream",
     "text": [
      "440.885617 seconds (3.21 G allocations: 266.033 GiB, 2.48% gc time)\n"
     ]
    }
   ],
   "source": [
    "srand(333);\n",
    "@time potts_gibbs, potts_gibbs_time = gibbs_sampler(1.5, 4.6, 20, 10, 1000000);\n",
    "@save \"potts_gibbs_final.jld2\" potts_gibbs\n",
    "@save \"potts_gibbs_final_time.jld2\" potts_gibbs_time"
   ]
  },
  {
   "cell_type": "code",
   "execution_count": 5,
   "metadata": {},
   "outputs": [
    {
     "data": {
      "text/plain": [
       "param_L (generic function with 1 method)"
      ]
     },
     "execution_count": 5,
     "metadata": {},
     "output_type": "execute_result"
    }
   ],
   "source": [
    "function param_L(gamma::Float64, beta::Float64, grid_width::Int64)\n",
    "    N = grid_width^2;\n",
    "    L = 0.0;\n",
    "    for i = 1:N\n",
    "        acc = 0.0;\n",
    "        for j = 1:N\n",
    "            if (i != j)\n",
    "                acc += beta * interaction(gamma, grid_width, i, j);\n",
    "            end\n",
    "        end\n",
    "        L = max(L, acc);\n",
    "    end\n",
    "    return L;\n",
    "end"
   ]
  },
  {
   "cell_type": "code",
   "execution_count": 6,
   "metadata": {},
   "outputs": [
    {
     "data": {
      "text/plain": [
       "poisson_weights (generic function with 1 method)"
      ]
     },
     "execution_count": 6,
     "metadata": {},
     "output_type": "execute_result"
    }
   ],
   "source": [
    "function poisson_weights(gamma::Float64, beta::Float64, lambda::Float64, grid_width::Int64)\n",
    "    N = grid_width^2;\n",
    "    weights = zeros(N,N);\n",
    "    sum_M = zeros(N);\n",
    "    norm_rho = zeros(N,N);\n",
    "    L = 0.0;\n",
    "    for i = 1:N\n",
    "        acc = 0.0;\n",
    "        for j = 1:N\n",
    "            if (i != j)\n",
    "                weights[i,j] = beta * interaction(gamma, grid_width, i, j);\n",
    "                acc += weights[i,j];\n",
    "            end\n",
    "        end\n",
    "        sum_M[i] = acc;\n",
    "        L = max(L, acc);\n",
    "    end\n",
    "    Delta = sum_M * lambda / L + sum_M;\n",
    "    rho = weights * lambda / L + weights;\n",
    "    lm_L = weights * lambda / L;\n",
    "    for k = 1:N\n",
    "        norm_rho[k,:] = rho[k,:] ./ Delta[k];\n",
    "    end\n",
    "    return (L, Delta, rho, lm_L, norm_rho);\n",
    "end"
   ]
  },
  {
   "cell_type": "code",
   "execution_count": 7,
   "metadata": {},
   "outputs": [
    {
     "data": {
      "text/plain": [
       "poisson_sampler (generic function with 1 method)"
      ]
     },
     "execution_count": 7,
     "metadata": {},
     "output_type": "execute_result"
    }
   ],
   "source": [
    "function poisson_sampler(gamma::Float64, beta::Float64, lambda::Float64, grid_width::Int64, num_states::Int64, num_samples::Int64,L::Float64, Delta::Vector{Float64}, rho::Array{Float64,2}, lm_L::Array{Float64,2},norm_rho::Array{Float64,2})\n",
    "    N = grid_width^2;\n",
    "    state = ones(Int64, N);\n",
    "    marginal_counts = zeros(Int64, N, num_states);\n",
    "    true_marginals = ones(Float64, N, num_states) / (1.0 * num_states);\n",
    "    marginal_errors = zeros(Float64, num_samples);\n",
    "    run_time = zeros(Float64,num_samples);\n",
    "    for iter = 1:num_samples\n",
    "        run_time[iter] = @elapsed begin\n",
    "        i = rand(1:N);\n",
    "        B = rand(Poisson(Delta[i]));\n",
    "        ind = find(norm_rho[i,:].>0);\n",
    "        B_idx = sample(1:length(ind), Weights(norm_rho[i,ind]),B);\n",
    "        idx = ind[B_idx];\n",
    "        for b = 1:B\n",
    "            if (state[idx[b]] != state[i])\n",
    "                p = lm_L[i,idx[b]]./rho[i,idx[b]];\n",
    "                if (rand()> p)\n",
    "                    idx[b]=0;\n",
    "                end\n",
    "            end\n",
    "        end        \n",
    "        energies = zeros(num_states);\n",
    "        for t = 1:num_states\n",
    "            num=0;\n",
    "            for j in idx\n",
    "                if (j != 0)\n",
    "                    energies[t] += log(1 + L / lambda) * (state[j]==t);\n",
    "                    num=num+1;\n",
    "                end\n",
    "            end\n",
    "        end\n",
    "        \n",
    "        sample_probs = exp.(energies) ./ sum(exp.(energies));\n",
    "        state[i] = sample(1:num_states, Weights(sample_probs));\n",
    "        end\n",
    "        for j = 1:N\n",
    "            marginal_counts[j, state[j]] += 1;\n",
    "        end\n",
    "        marginal_errors[iter] = mean([norm((marginal_counts[j, :] / (1.0*iter)) - true_marginals[j, :]) for j = 1:N]);\n",
    "    end\n",
    "    return marginal_errors, run_time;\n",
    "end"
   ]
  },
  {
   "cell_type": "code",
   "execution_count": 17,
   "metadata": {},
   "outputs": [
    {
     "name": "stdout",
     "output_type": "stream",
     "text": [
      "178.688355 seconds (3.23 G allocations: 280.445 GiB, 6.67% gc time)\n"
     ]
    }
   ],
   "source": [
    "srand(333);\n",
    "lamb = 1 * param_L(1.5, 4.6, 20)^2\n",
    "(L, Delta, rho, lm_L, norm_rho) = poisson_weights(1.5, 4.6, lamb, 20);\n",
    "@time potts_poisson1, potts_poisson1_time = poisson_sampler(1.5, 4.6, lamb, 20, 10, 1000000, L, Delta, rho, lm_L, norm_rho);\n",
    "@save \"potts_pgibbs_new_final.jld2\" potts_poisson1\n",
    "@save \"potts_pgibbs_new_final_time.jld2\" potts_poisson1_time"
   ]
  },
  {
   "cell_type": "code",
   "execution_count": 18,
   "metadata": {},
   "outputs": [
    {
     "name": "stdout",
     "output_type": "stream",
     "text": [
      "166.090342 seconds (3.23 G allocations: 280.056 GiB, 7.09% gc time)\n"
     ]
    }
   ],
   "source": [
    "srand(333);\n",
    "lamb = 0.1 * param_L(1.5, 4.6, 20)^2\n",
    "(L, Delta, rho, lm_L, norm_rho) = poisson_weights(1.5, 4.6, lamb, 20);\n",
    "@time potts_poisson01, potts_poisson01_time = poisson_sampler(1.5, 4.6, lamb, 20, 10, 1000000, L, Delta, rho, lm_L, norm_rho);\n",
    "@save \"potts_pgibbs01_new_final.jld2\" potts_poisson01\n",
    "@save \"potts_pgibbs01_new_final_time.jld2\" potts_poisson01_time"
   ]
  },
  {
   "cell_type": "code",
   "execution_count": 19,
   "metadata": {},
   "outputs": [
    {
     "name": "stdout",
     "output_type": "stream",
     "text": [
      "197.877769 seconds (3.23 G allocations: 294.183 GiB, 6.33% gc time)\n"
     ]
    }
   ],
   "source": [
    "srand(333);\n",
    "lamb = 5 * param_L(1.5, 4.6, 20)^2\n",
    "(L, Delta, rho, lm_L, norm_rho) = poisson_weights(1.5, 4.6, lamb, 20);\n",
    "@time potts_poisson5, potts_poisson5_time = poisson_sampler(1.5, 4.6, lamb, 20, 10, 1000000, L, Delta, rho, lm_L, norm_rho);\n",
    "@save \"potts_pgibbs5_new_final.jld2\" potts_poisson5\n",
    "@save \"potts_pgibbs5_new_final_time.jld2\" potts_poisson5_time"
   ]
  },
  {
   "cell_type": "code",
   "execution_count": null,
   "metadata": {},
   "outputs": [],
   "source": []
  }
 ],
 "metadata": {
  "kernelspec": {
   "display_name": "Julia 0.6.4",
   "language": "julia",
   "name": "julia-0.6"
  },
  "language_info": {
   "file_extension": ".jl",
   "mimetype": "application/julia",
   "name": "julia",
   "version": "0.6.4"
  }
 },
 "nbformat": 4,
 "nbformat_minor": 2
}
